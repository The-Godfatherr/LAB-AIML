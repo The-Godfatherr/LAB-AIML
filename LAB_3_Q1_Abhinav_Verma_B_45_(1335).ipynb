{
  "nbformat": 4,
  "nbformat_minor": 0,
  "metadata": {
    "colab": {
      "provenance": [],
      "authorship_tag": "ABX9TyPm8tgLnbEoEv81Z43XX5Vg",
      "include_colab_link": true
    },
    "kernelspec": {
      "name": "python3",
      "display_name": "Python 3"
    },
    "language_info": {
      "name": "python"
    }
  },
  "cells": [
    {
      "cell_type": "markdown",
      "metadata": {
        "id": "view-in-github",
        "colab_type": "text"
      },
      "source": [
        "<a href=\"https://colab.research.google.com/github/The-Godfatherr/LAB-AIML/blob/main/LAB_3_Q1_Abhinav_Verma_B_45_(1335).ipynb\" target=\"_parent\"><img src=\"https://colab.research.google.com/assets/colab-badge.svg\" alt=\"Open In Colab\"/></a>"
      ]
    },
    {
      "cell_type": "code",
      "execution_count": 6,
      "metadata": {
        "colab": {
          "base_uri": "https://localhost:8080/"
        },
        "id": "P3miotjJ6jMN",
        "outputId": "b44dcfff-14b7-4b2b-c506-3b968379e625"
      },
      "outputs": [
        {
          "output_type": "stream",
          "name": "stdout",
          "text": [
            "Requirement already satisfied: nltk in /usr/local/lib/python3.11/dist-packages (3.9.1)\n",
            "Requirement already satisfied: click in /usr/local/lib/python3.11/dist-packages (from nltk) (8.2.1)\n",
            "Requirement already satisfied: joblib in /usr/local/lib/python3.11/dist-packages (from nltk) (1.5.1)\n",
            "Requirement already satisfied: regex>=2021.8.3 in /usr/local/lib/python3.11/dist-packages (from nltk) (2024.11.6)\n",
            "Requirement already satisfied: tqdm in /usr/local/lib/python3.11/dist-packages (from nltk) (4.67.1)\n"
          ]
        }
      ],
      "source": [
        "# Step 1: Install required packages\n",
        "!pip install nltk"
      ]
    },
    {
      "cell_type": "code",
      "source": [
        "# Step 2 : Install Libraries\n",
        "import requests\n",
        "import re\n",
        "from collections import Counter\n",
        "import nltk\n",
        "from nltk.corpus import stopwords\n",
        "from nltk.stem import PorterStemmer\n",
        "from nltk.tokenize import word_tokenize\n",
        "nltk.download('punkt')\n",
        "nltk.download('stopwords')"
      ],
      "metadata": {
        "colab": {
          "base_uri": "https://localhost:8080/"
        },
        "id": "cFCEC9PPFCwa",
        "outputId": "41aa469c-fbe5-4275-de20-38c8e50570d8"
      },
      "execution_count": 17,
      "outputs": [
        {
          "output_type": "stream",
          "name": "stderr",
          "text": [
            "[nltk_data] Downloading package punkt to /root/nltk_data...\n",
            "[nltk_data]   Package punkt is already up-to-date!\n",
            "[nltk_data] Downloading package stopwords to /root/nltk_data...\n",
            "[nltk_data]   Package stopwords is already up-to-date!\n"
          ]
        },
        {
          "output_type": "execute_result",
          "data": {
            "text/plain": [
              "True"
            ]
          },
          "metadata": {},
          "execution_count": 17
        }
      ]
    },
    {
      "cell_type": "code",
      "source": [
        "# Step 3: Load Text File Frome URL\n",
        "url = \"https://raw.githubusercontent.com/dscape/spell/master/test/resources/big.txt\"\n",
        "response = requests.get(url)\n",
        "raw_text = response.text"
      ],
      "metadata": {
        "id": "IFq97JTTF6Tv"
      },
      "execution_count": 18,
      "outputs": []
    },
    {
      "cell_type": "code",
      "source": [
        "# Step 4: Remove all the unnecessary Elements\n",
        "clean_text = re.sub(r'[^a-zA-Z\\s]', '', raw_text)   # Remove all non-letter chars\n",
        "clean_text = re.sub(r'\\s+', ' ', clean_text)        # Replace multiple spaces with single space"
      ],
      "metadata": {
        "id": "s6DO4n-KHIpt"
      },
      "execution_count": 19,
      "outputs": []
    },
    {
      "cell_type": "code",
      "source": [
        "#Step 5: Tokenization\n",
        "tokens = nltk.word_tokenize(clean_text)"
      ],
      "metadata": {
        "id": "UVMEVvleILBr"
      },
      "execution_count": 20,
      "outputs": []
    },
    {
      "cell_type": "code",
      "source": [
        "#Step 6: Remove Stop Words\n",
        "stop_words = set(stopwords.words('english'))\n",
        "tokens_no_stop = [word for word in tokens if word.lower() not in stop_words]"
      ],
      "metadata": {
        "id": "M5U8xOpzIYl7"
      },
      "execution_count": 21,
      "outputs": []
    },
    {
      "cell_type": "code",
      "source": [
        "# Step 7: Stemming\n",
        "stemmer = PorterStemmer()\n",
        "stemmed_tokens = [stemmer.stem(word.lower()) for word in tokens_no_stop]"
      ],
      "metadata": {
        "id": "Yh2zhJN0LPBZ"
      },
      "execution_count": 22,
      "outputs": []
    },
    {
      "cell_type": "code",
      "source": [
        "# Step 8: Count and display most frequent words\n",
        "word_counts = Counter(stemmed_tokens)\n",
        "most_common_words = word_counts.most_common(20)\n",
        "print(\"Most frequent words after preprocessing:\\n\")\n",
        "for word, freq in most_common_words:\n",
        "    print(f\"{word}: {freq}\")"
      ],
      "metadata": {
        "colab": {
          "base_uri": "https://localhost:8080/"
        },
        "id": "F5oTze9FNG8d",
        "outputId": "0133c602-0441-4bf7-c147-c1c02e18d613"
      },
      "execution_count": 23,
      "outputs": [
        {
          "output_type": "stream",
          "name": "stdout",
          "text": [
            "Most frequent words after preprocessing:\n",
            "\n",
            "said: 3456\n",
            "one: 3354\n",
            "may: 2538\n",
            "pierr: 1952\n",
            "would: 1949\n",
            "princ: 1945\n",
            "look: 1859\n",
            "time: 1749\n",
            "could: 1695\n",
            "state: 1661\n",
            "man: 1635\n",
            "hand: 1360\n",
            "face: 1339\n",
            "see: 1322\n",
            "go: 1274\n",
            "know: 1238\n",
            "come: 1237\n",
            "day: 1229\n",
            "natasha: 1208\n",
            "new: 1201\n"
          ]
        }
      ]
    }
  ]
}