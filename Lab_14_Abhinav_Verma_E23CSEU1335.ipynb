{
  "nbformat": 4,
  "nbformat_minor": 0,
  "metadata": {
    "colab": {
      "provenance": [],
      "authorship_tag": "ABX9TyOyelD0qinebN6x5tKca8mp",
      "include_colab_link": true
    },
    "kernelspec": {
      "name": "python3",
      "display_name": "Python 3"
    },
    "language_info": {
      "name": "python"
    }
  },
  "cells": [
    {
      "cell_type": "markdown",
      "metadata": {
        "id": "view-in-github",
        "colab_type": "text"
      },
      "source": [
        "<a href=\"https://colab.research.google.com/github/The-Godfatherr/LAB-AIML/blob/main/Lab_14_Abhinav_Verma_E23CSEU1335.ipynb\" target=\"_parent\"><img src=\"https://colab.research.google.com/assets/colab-badge.svg\" alt=\"Open In Colab\"/></a>"
      ]
    },
    {
      "cell_type": "code",
      "execution_count": null,
      "metadata": {
        "id": "D4A1ENYmM4sS"
      },
      "outputs": [],
      "source": [
        "# Install scikit-learn (only if not installed in your Colab environment)\n",
        "!pip install scikit-learn\n"
      ]
    },
    {
      "cell_type": "code",
      "source": [
        "import numpy as np\n",
        "import pandas as pd\n",
        "from sklearn.datasets import load_breast_cancer\n",
        "from sklearn.model_selection import train_test_split\n",
        "from sklearn.preprocessing import StandardScaler\n",
        "from sklearn.neural_network import MLPClassifier\n",
        "from sklearn.metrics import accuracy_score\n"
      ],
      "metadata": {
        "id": "UTWMMsGYNOLi"
      },
      "execution_count": 1,
      "outputs": []
    },
    {
      "cell_type": "code",
      "source": [
        "# Load Breast Cancer dataset\n",
        "data = load_breast_cancer()\n",
        "X = data.data\n",
        "y = data.target\n",
        "\n",
        "# Split into train and test sets\n",
        "X_train, X_test, y_train, y_test = train_test_split(X, y, test_size=0.2, random_state=42)\n",
        "\n",
        "# Standardize features\n",
        "scaler = StandardScaler()\n",
        "X_train_scaled = scaler.fit_transform(X_train)\n",
        "X_test_scaled = scaler.transform(X_test)\n"
      ],
      "metadata": {
        "id": "iYB7cj7tNUzR"
      },
      "execution_count": 2,
      "outputs": []
    },
    {
      "cell_type": "code",
      "source": [
        "activations = ['relu', 'tanh', 'logistic']  # logistic = sigmoid\n",
        "optimizers = ['adam', 'sgd']\n",
        "\n",
        "results = []\n"
      ],
      "metadata": {
        "id": "apLjN_BfNdvY"
      },
      "execution_count": 3,
      "outputs": []
    },
    {
      "cell_type": "code",
      "source": [
        "for activation in activations:\n",
        "    for optimizer in optimizers:\n",
        "        clf = MLPClassifier(hidden_layer_sizes=(50,), activation=activation, solver=optimizer,\n",
        "                            max_iter=300, random_state=42)\n",
        "        clf.fit(X_train_scaled, y_train)\n",
        "        y_pred = clf.predict(X_test_scaled)\n",
        "        acc = accuracy_score(y_test, y_pred)\n",
        "        results.append({\n",
        "            'Activation': activation,\n",
        "            'Optimizer': optimizer,\n",
        "            'Accuracy': acc\n",
        "        })\n",
        "        print(f\"Activation: {activation} | Optimizer: {optimizer} | Accuracy: {acc:.4f}\")\n"
      ],
      "metadata": {
        "colab": {
          "base_uri": "https://localhost:8080/"
        },
        "id": "4HkgxomGNhNe",
        "outputId": "2bf5bd15-da8e-4a7c-f7dd-57c8c34e1e10"
      },
      "execution_count": 4,
      "outputs": [
        {
          "output_type": "stream",
          "name": "stderr",
          "text": [
            "/usr/local/lib/python3.12/dist-packages/sklearn/neural_network/_multilayer_perceptron.py:691: ConvergenceWarning: Stochastic Optimizer: Maximum iterations (300) reached and the optimization hasn't converged yet.\n",
            "  warnings.warn(\n"
          ]
        },
        {
          "output_type": "stream",
          "name": "stdout",
          "text": [
            "Activation: relu | Optimizer: adam | Accuracy: 0.9737\n"
          ]
        },
        {
          "output_type": "stream",
          "name": "stderr",
          "text": [
            "/usr/local/lib/python3.12/dist-packages/sklearn/neural_network/_multilayer_perceptron.py:691: ConvergenceWarning: Stochastic Optimizer: Maximum iterations (300) reached and the optimization hasn't converged yet.\n",
            "  warnings.warn(\n"
          ]
        },
        {
          "output_type": "stream",
          "name": "stdout",
          "text": [
            "Activation: relu | Optimizer: sgd | Accuracy: 0.9912\n"
          ]
        },
        {
          "output_type": "stream",
          "name": "stderr",
          "text": [
            "/usr/local/lib/python3.12/dist-packages/sklearn/neural_network/_multilayer_perceptron.py:691: ConvergenceWarning: Stochastic Optimizer: Maximum iterations (300) reached and the optimization hasn't converged yet.\n",
            "  warnings.warn(\n"
          ]
        },
        {
          "output_type": "stream",
          "name": "stdout",
          "text": [
            "Activation: tanh | Optimizer: adam | Accuracy: 0.9737\n",
            "Activation: tanh | Optimizer: sgd | Accuracy: 0.9825\n",
            "Activation: logistic | Optimizer: adam | Accuracy: 0.9912\n",
            "Activation: logistic | Optimizer: sgd | Accuracy: 0.9649\n"
          ]
        },
        {
          "output_type": "stream",
          "name": "stderr",
          "text": [
            "/usr/local/lib/python3.12/dist-packages/sklearn/neural_network/_multilayer_perceptron.py:691: ConvergenceWarning: Stochastic Optimizer: Maximum iterations (300) reached and the optimization hasn't converged yet.\n",
            "  warnings.warn(\n"
          ]
        }
      ]
    },
    {
      "cell_type": "code",
      "source": [
        "# Convert results to DataFrame\n",
        "results_df = pd.DataFrame(results)\n",
        "print(results_df)\n",
        "\n",
        "# Find the best combination\n",
        "best_row = results_df.loc[results_df['Accuracy'].idxmax()]\n",
        "print(\"\\nBest combination:\")\n",
        "print(best_row)\n"
      ],
      "metadata": {
        "colab": {
          "base_uri": "https://localhost:8080/"
        },
        "id": "M_1gbyb-NmG0",
        "outputId": "eca916ae-8e36-4c5a-c904-106197393c78"
      },
      "execution_count": 5,
      "outputs": [
        {
          "output_type": "stream",
          "name": "stdout",
          "text": [
            "  Activation Optimizer  Accuracy\n",
            "0       relu      adam  0.973684\n",
            "1       relu       sgd  0.991228\n",
            "2       tanh      adam  0.973684\n",
            "3       tanh       sgd  0.982456\n",
            "4   logistic      adam  0.991228\n",
            "5   logistic       sgd  0.964912\n",
            "\n",
            "Best combination:\n",
            "Activation        relu\n",
            "Optimizer          sgd\n",
            "Accuracy      0.991228\n",
            "Name: 1, dtype: object\n"
          ]
        }
      ]
    }
  ]
}