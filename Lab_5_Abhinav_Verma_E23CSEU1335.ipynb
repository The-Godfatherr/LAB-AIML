{
  "nbformat": 4,
  "nbformat_minor": 0,
  "metadata": {
    "colab": {
      "provenance": [],
      "authorship_tag": "ABX9TyO2pFx4Mp03jM00+L048vbv",
      "include_colab_link": true
    },
    "kernelspec": {
      "name": "python3",
      "display_name": "Python 3"
    },
    "language_info": {
      "name": "python"
    }
  },
  "cells": [
    {
      "cell_type": "markdown",
      "metadata": {
        "id": "view-in-github",
        "colab_type": "text"
      },
      "source": [
        "<a href=\"https://colab.research.google.com/github/The-Godfatherr/LAB-AIML/blob/main/Lab_5_Abhinav_Verma_E23CSEU1335.ipynb\" target=\"_parent\"><img src=\"https://colab.research.google.com/assets/colab-badge.svg\" alt=\"Open In Colab\"/></a>"
      ]
    },
    {
      "cell_type": "code",
      "execution_count": 9,
      "metadata": {
        "colab": {
          "base_uri": "https://localhost:8080/"
        },
        "id": "6fq0_bcV7Z08",
        "outputId": "6cafb548-983c-43bc-9fd6-6594fa70ca2d"
      },
      "outputs": [
        {
          "output_type": "stream",
          "name": "stdout",
          "text": [
            "First five rows of the data:\n",
            "  school sex  age address famsize Pstatus  Medu  Fedu     Mjob      Fjob  ...  \\\n",
            "0     GP   F   18       U     GT3       A     4     4  at_home   teacher  ...   \n",
            "1     GP   F   17       U     GT3       T     1     1  at_home     other  ...   \n",
            "2     GP   F   15       U     LE3       T     1     1  at_home     other  ...   \n",
            "3     GP   F   15       U     GT3       T     4     2   health  services  ...   \n",
            "4     GP   F   16       U     GT3       T     3     3    other     other  ...   \n",
            "\n",
            "  famrel freetime  goout  Dalc  Walc health absences  G1  G2  G3  \n",
            "0      4        3      4     1     1      3        6   5   6   6  \n",
            "1      5        3      3     1     1      3        4   5   5   6  \n",
            "2      4        3      2     2     3      3       10   7   8  10  \n",
            "3      3        2      2     1     1      5        2  15  14  15  \n",
            "4      4        3      2     1     2      5        4   6  10  10  \n",
            "\n",
            "[5 rows x 33 columns]\n",
            "Columns after encoding:\n",
            "Index(['age', 'Medu', 'Fedu', 'traveltime', 'failures', 'famrel', 'freetime',\n",
            "       'goout', 'Dalc', 'Walc', 'health', 'absences', 'G1', 'G2', 'G3',\n",
            "       'school_MS', 'sex_M', 'address_U', 'famsize_LE3', 'Pstatus_T',\n",
            "       'Mjob_health', 'Mjob_other', 'Mjob_services', 'Mjob_teacher',\n",
            "       'Fjob_health', 'Fjob_other', 'Fjob_services', 'Fjob_teacher',\n",
            "       'guardian_mother', 'guardian_other', 'reason_home', 'reason_other',\n",
            "       'reason_reputation', 'studytime_2', 'studytime_3', 'studytime_4',\n",
            "       'schoolsup_yes', 'famsup_yes', 'paid_yes', 'activities_yes',\n",
            "       'higher_yes', 'internet_yes', 'romantic_yes', 'nursery_yes'],\n",
            "      dtype='object')\n",
            "Mean Squared Error: 3.20442736588811\n",
            "\n",
            "Model trained successfully. You can now use the model to make predictions.\n"
          ]
        }
      ],
      "source": [
        "# 1. Import necessary libraries\n",
        "import pandas as pd\n",
        "import numpy as np\n",
        "from sklearn.linear_model import LinearRegression\n",
        "from sklearn.metrics import mean_squared_error\n",
        "\n",
        "# 2. Load data\n",
        "# Replace 'data/multiple_linear_data.csv' with your actual file path in Colab, e.g., '/content/multiple_linear_data.csv'\n",
        "# Correcting the file path to '/content/multiple_linear_data.csv' assuming it's in the content directory\n",
        "df = pd.read_csv('/content/student-mat.csv', sep=';')\n",
        "print(\"First five rows of the data:\")\n",
        "print(df.head())\n",
        "\n",
        "# 3. Preprocess: Convert categorical features into numeric\n",
        "# Identify categorical columns from the assignment: address, famsize, reason, studytime, schoolsup, famsup, paid, activities, higher, internet, romantic, etc.\n",
        "# You may need to adjust the list below based on your CSV columns\n",
        "\n",
        "categorical_cols = [\n",
        "    \"school\", \"sex\", \"address\", \"famsize\", \"Pstatus\", \"Mjob\", \"Fjob\", \"guardian\",\n",
        "    \"reason\", \"studytime\", \"schoolsup\", \"famsup\", \"paid\",\n",
        "    \"activities\", \"higher\", \"internet\", \"romantic\", \"nursery\" # Added missing categorical columns\n",
        "]\n",
        "# One-hot encoding for categorical variables\n",
        "df_encoded = pd.get_dummies(df, columns=categorical_cols, drop_first=True)\n",
        "print(\"Columns after encoding:\")\n",
        "print(df_encoded.columns)\n",
        "\n",
        "# 4. Prepare features (X) and target (y)\n",
        "X = df_encoded.drop([\"G3\"], axis=1)\n",
        "y = df_encoded[\"G3\"]\n",
        "\n",
        "# 5. Train Linear Regression model\n",
        "model = LinearRegression()\n",
        "model.fit(X, y)\n",
        "\n",
        "# 6. Evaluate performance on the whole dataset (mean squared error)\n",
        "y_pred = model.predict(X)\n",
        "mse = mean_squared_error(y, y_pred)\n",
        "print(\"Mean Squared Error:\", mse)\n",
        "\n",
        "# 7. Predict on a new sample\n",
        "# Example: Replace with real values as needed; order must match X.columns!\n",
        "# This part will still need to be filled in with actual values for a prediction\n",
        "print(\"\\nModel trained successfully. You can now use the model to make predictions.\")\n",
        "# predicted_grade = model.predict(sample_input)\n",
        "# print(\"Predicted grade:\", predicted_grade)"
      ]
    },
    {
      "cell_type": "code",
      "metadata": {
        "colab": {
          "base_uri": "https://localhost:8080/"
        },
        "id": "6835fc9b",
        "outputId": "e92ac8cf-5257-42ae-eebb-3da7e2d4971a"
      },
      "source": [
        "# 7. Predict on a new sample\n",
        "# Example: Replace with real values as needed; order must match X.columns!\n",
        "\n",
        "# Create a sample input matching the columns of X\n",
        "# You need to provide actual values for each feature in the same order as X.columns\n",
        "# You can print X.columns to see the required order\n",
        "print(\"Columns for prediction input:\")\n",
        "print(X.columns)\n",
        "\n",
        "# Example sample input (replace with your data)\n",
        "# This is just a placeholder with the correct number of columns.\n",
        "# You need to fill in the actual values for the student you want to predict for.\n",
        "sample_input = pd.DataFrame([[\n",
        "    18, 4, 4, 2, 0, 4, 3, 4, 1, 1, 3, 6, 5, 6, # Example numerical features (14 values)\n",
        "    False, False, False, False, False, False, False, False, False, False, False, False, False, False, False, False, False, False, False, False, False, False, False, False, False, False, False, False, False # Example one-hot encoded features (29 values)\n",
        "]], columns=X.columns)\n",
        "\n",
        "\n",
        "predicted_grade = model.predict(sample_input)\n",
        "print(\"\\nPredicted grade:\", predicted_grade)"
      ],
      "execution_count": 11,
      "outputs": [
        {
          "output_type": "stream",
          "name": "stdout",
          "text": [
            "Columns for prediction input:\n",
            "Index(['age', 'Medu', 'Fedu', 'traveltime', 'failures', 'famrel', 'freetime',\n",
            "       'goout', 'Dalc', 'Walc', 'health', 'absences', 'G1', 'G2', 'school_MS',\n",
            "       'sex_M', 'address_U', 'famsize_LE3', 'Pstatus_T', 'Mjob_health',\n",
            "       'Mjob_other', 'Mjob_services', 'Mjob_teacher', 'Fjob_health',\n",
            "       'Fjob_other', 'Fjob_services', 'Fjob_teacher', 'guardian_mother',\n",
            "       'guardian_other', 'reason_home', 'reason_other', 'reason_reputation',\n",
            "       'studytime_2', 'studytime_3', 'studytime_4', 'schoolsup_yes',\n",
            "       'famsup_yes', 'paid_yes', 'activities_yes', 'higher_yes',\n",
            "       'internet_yes', 'romantic_yes', 'nursery_yes'],\n",
            "      dtype='object')\n",
            "\n",
            "Predicted grade: [4.53464482]\n"
          ]
        }
      ]
    }
  ]
}